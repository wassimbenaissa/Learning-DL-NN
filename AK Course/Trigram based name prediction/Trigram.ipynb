{
 "cells": [
  {
   "cell_type": "code",
   "execution_count": 1,
   "id": "6e9864b0-7efb-48d4-af38-3009a67d0cc3",
   "metadata": {},
   "outputs": [],
   "source": [
    "words = open('names.txt', 'r').read().splitlines()"
   ]
  },
  {
   "cell_type": "code",
   "execution_count": 2,
   "id": "74e3617c-6520-4cb0-850b-b3f3f08b157f",
   "metadata": {},
   "outputs": [
    {
     "data": {
      "text/plain": [
       "['emma',\n",
       " 'olivia',\n",
       " 'ava',\n",
       " 'isabella',\n",
       " 'sophia',\n",
       " 'charlotte',\n",
       " 'mia',\n",
       " 'amelia',\n",
       " 'harper',\n",
       " 'evelyn']"
      ]
     },
     "execution_count": 2,
     "metadata": {},
     "output_type": "execute_result"
    }
   ],
   "source": [
    "words[:10]"
   ]
  },
  {
   "cell_type": "code",
   "execution_count": 3,
   "id": "e1883696-7d8f-41ae-af30-fd20022f67d5",
   "metadata": {},
   "outputs": [
    {
     "data": {
      "text/plain": [
       "32033"
      ]
     },
     "execution_count": 3,
     "metadata": {},
     "output_type": "execute_result"
    }
   ],
   "source": [
    "len(words)"
   ]
  },
  {
   "cell_type": "code",
   "execution_count": 5,
   "id": "83ac578b-c427-48cb-9106-13d2c591ccc0",
   "metadata": {},
   "outputs": [
    {
     "data": {
      "text/plain": [
       "15"
      ]
     },
     "execution_count": 5,
     "metadata": {},
     "output_type": "execute_result"
    }
   ],
   "source": [
    "max(len(w) for w in words)"
   ]
  },
  {
   "cell_type": "code",
   "execution_count": 6,
   "id": "560f54f3-25d6-4ac7-9904-ddc6a7689956",
   "metadata": {},
   "outputs": [],
   "source": [
    "import torch"
   ]
  },
  {
   "cell_type": "code",
   "execution_count": 276,
   "id": "35da892b-9e57-4d38-8c2d-0588a0f2c790",
   "metadata": {},
   "outputs": [],
   "source": [
    "# The rows of our tensor represent all the possible 2 character input that we can have -> n^2 with = alphabet + '.' \n",
    "\n",
    "N = torch.zeros((27**2,27), dtype=torch.int32)"
   ]
  },
  {
   "cell_type": "code",
   "execution_count": 277,
   "id": "e121964b-36da-40a0-a881-c321b9b43b99",
   "metadata": {},
   "outputs": [],
   "source": [
    "chars = sorted(list(set(''.join(words))))\n",
    "stoi = {s:i+1 for i,s in enumerate(chars)}\n",
    "stoi['.'] = 0\n",
    "itos = {i:s for s,i in stoi.items()}"
   ]
  },
  {
   "cell_type": "code",
   "execution_count": 278,
   "id": "c8f52db9-c291-44e5-93e0-c630bc5276a1",
   "metadata": {},
   "outputs": [],
   "source": [
    "chars.insert(0, '.')"
   ]
  },
  {
   "cell_type": "code",
   "execution_count": 279,
   "id": "8ded9fd9-a2fd-4798-aa13-d0a046a2b13a",
   "metadata": {},
   "outputs": [],
   "source": [
    "stoiTri = {}\n",
    "i = 0\n",
    "for c1 in chars:\n",
    "    for c2 in chars:\n",
    "        stoiTri[c1+c2] = i\n",
    "        i = i + 1\n",
    "itosTri = {v:j for j,v in stoiTri.items()} "
   ]
  },
  {
   "cell_type": "code",
   "execution_count": 280,
   "id": "4c4b5789-1cd2-4e4e-bef2-e5fa6ce92781",
   "metadata": {
    "scrolled": true
   },
   "outputs": [],
   "source": [
    "#In this modelisation, a word start with two dots and end with one \n",
    "\n",
    "for w in words:\n",
    "    chs = ['.'] + ['.'] + list(w) + ['.']\n",
    "    for ch1, ch2, ch3 in zip(chs, chs[1:], chs[2:]):\n",
    "        ix1 = stoiTri[ch1 + ch2]\n",
    "        ix2 = stoi[ch3]\n",
    "        N[ix1, ix2] += 1"
   ]
  },
  {
   "cell_type": "code",
   "execution_count": 281,
   "id": "c8f2a278-affc-48bd-85a4-17326b89077c",
   "metadata": {},
   "outputs": [],
   "source": [
    "P = (N+1).float()\n",
    "P /= P.sum(1, keepdims=True)"
   ]
  },
  {
   "cell_type": "code",
   "execution_count": 285,
   "id": "5577cbb0-b8b9-4839-9bce-de70af2c2400",
   "metadata": {
    "scrolled": true
   },
   "outputs": [
    {
     "name": "stdout",
     "output_type": "stream",
     "text": [
      "ce.\n",
      "bra.\n",
      "jalius.\n",
      "rochityharlonimittain.\n",
      "luwak.\n",
      "ka.\n",
      "da.\n",
      "samiyah.\n",
      "javer.\n",
      "gotai.\n",
      "moriellavojkwuthda.\n",
      "kaley.\n",
      "maside.\n",
      "en.\n",
      "aviyah.\n",
      "fobspihiliven.\n",
      "tahlasuzusfxx.\n",
      "an.\n",
      "glhpynn.\n",
      "isan.\n",
      "jaridynne.\n",
      "zam.\n",
      "der.\n",
      "jair.\n",
      "tagaikayshaabelarl.\n",
      "khysteeven.\n",
      "abricayharien.\n",
      "xmvpfkmwmghavaysor.\n",
      "myson.\n",
      "laitjaimilaydriseriyen.\n",
      "kyille.\n",
      "lahmie.\n",
      "marah.\n",
      "ammhgamaxemmy.\n",
      "asharle.\n",
      "alcalhy.\n",
      "jayceasvz.\n",
      "selane.\n",
      "nellay.\n",
      "ra.\n",
      "adaliyana.\n",
      "isa.\n",
      "dougnichrishycero.\n",
      "all.\n",
      "jonn.\n",
      "utstorgious.\n",
      "ayra.\n",
      "bekarie.\n",
      "vikace.\n",
      "ara.\n",
      "jayk.\n",
      "jagh.\n",
      "crylesterlrklmace.\n",
      "ro.\n",
      "prah.\n",
      "ye.\n",
      "en.\n",
      "aidgosell.\n",
      "mer.\n",
      "decla.\n",
      "tie.\n",
      "khamedahzymareizaymzjvtjuliah.\n",
      "brik.\n",
      "alkvsmjamere.\n",
      "morad.\n",
      "lie.\n",
      "mariannanf.\n",
      "mile.\n",
      "keonteahaj.\n",
      "ka.\n",
      "rena.\n",
      "mon.\n",
      "keika.\n",
      "suynn.\n",
      "miciawathazhan.\n",
      "jon.\n",
      "stie.\n",
      "kenie.\n",
      "zakiha.\n",
      "denovi.\n",
      "kar.\n",
      "kas.\n",
      "try.\n",
      "azemir.\n",
      "ret.\n",
      "ta.\n",
      "ley.\n",
      "ke.\n",
      "sa.\n",
      "carlorcagatai.\n",
      "versimikavallin.\n",
      "skyohaen.\n",
      "caikeyaderaydew.\n",
      "aarrecher.\n",
      "ole.\n",
      "prisy.\n",
      "elyn.\n",
      "jassyn.\n",
      "abrey.\n",
      "oah.\n"
     ]
    }
   ],
   "source": [
    "g = torch.Generator().manual_seed(2147483647)\n",
    "\n",
    "for i in range(100):\n",
    "  out = []\n",
    "  ix = 0\n",
    "  while True:\n",
    "    p = P[ix]\n",
    "    iy = torch.multinomial(p, num_samples=1, replacement=True, generator=g).item()\n",
    "    if ix == 0: \n",
    "        ix = stoiTri['.' + itos[iy]]\n",
    "    else:\n",
    "        chs = list(itosTri[ix])\n",
    "        ix = stoiTri[chs[1] + itos[iy]]\n",
    "    out.append(itos[iy])\n",
    "    if iy == 0:\n",
    "      break\n",
    "  print(''.join(out))"
   ]
  },
  {
   "cell_type": "code",
   "execution_count": 287,
   "id": "ce89ad19-0d1e-4f4c-a572-df55928e6b69",
   "metadata": {},
   "outputs": [
    {
     "name": "stdout",
     "output_type": "stream",
     "text": [
      "log_likelihood=tensor(-504653.)\n",
      "nll=tensor(504653.)\n",
      "2.2119739055633545\n"
     ]
    }
   ],
   "source": [
    "log_likelihood = 0.0\n",
    "n = 0\n",
    "\n",
    "for w in words:\n",
    "    chs = ['.'] + ['.'] + list(w) + ['.']\n",
    "    for ch1, ch2, ch3 in zip(chs, chs[1:], chs[2:]):\n",
    "        ix1 = stoiTri[ch1 + ch2]\n",
    "        ix2 = stoi[ch3]\n",
    "        prob = P[ix1, ix2]\n",
    "        logprob = torch.log(prob)\n",
    "        log_likelihood += logprob\n",
    "        n += 1\n",
    "\n",
    "print(f'{log_likelihood=}')\n",
    "nll = -log_likelihood\n",
    "print(f'{nll=}')\n",
    "print(f'{nll/n}')"
   ]
  },
  {
   "cell_type": "code",
   "execution_count": null,
   "id": "4e88f5aa-07d6-4cff-9f76-fccb1cd3654c",
   "metadata": {},
   "outputs": [],
   "source": []
  }
 ],
 "metadata": {
  "kernelspec": {
   "display_name": "Python 3 (ipykernel)",
   "language": "python",
   "name": "python3"
  },
  "language_info": {
   "codemirror_mode": {
    "name": "ipython",
    "version": 3
   },
   "file_extension": ".py",
   "mimetype": "text/x-python",
   "name": "python",
   "nbconvert_exporter": "python",
   "pygments_lexer": "ipython3",
   "version": "3.9.6"
  }
 },
 "nbformat": 4,
 "nbformat_minor": 5
}
